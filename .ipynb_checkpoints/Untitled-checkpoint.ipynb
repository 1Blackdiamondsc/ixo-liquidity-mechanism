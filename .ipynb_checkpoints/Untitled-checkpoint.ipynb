{
 "cells": [
  {
   "cell_type": "code",
   "execution_count": 25,
   "metadata": {},
   "outputs": [
    {
     "data": {
      "text/plain": [
       "array([ 323.15327718,  857.32922174, 1187.09084089, 1259.98924664,\n",
       "        792.94512987, 1717.97629616,  852.87147146,  618.0209758 ,\n",
       "       1094.23530425,   47.29830331,   56.04604394, 1932.7970069 ,\n",
       "        655.02168086,  105.71075554, 1457.94340599, 2433.02715581,\n",
       "       1058.55648891, 2129.39320321,  275.9554012 ,  536.860577  ,\n",
       "        505.57403567,  332.93811551,  778.67304813, 1598.92289001,\n",
       "         88.90460763, 1410.08264489,  422.20460158,   57.68480087,\n",
       "       1697.77969465,  680.68216184,  793.3457239 ,  100.33678834,\n",
       "        620.37066683,  951.99658705, 2879.12239235, 2287.70662576,\n",
       "        225.09077525,  743.92980412, 1200.32188854,  373.30502242,\n",
       "       2085.55969139,  961.59875007,  780.33460604, 2504.32445812,\n",
       "       2572.36757458, 2712.21511222,  643.52764595,  301.67076428,\n",
       "        148.86970764, 1529.19105158,  594.4556191 , 2081.92774485,\n",
       "        481.70498798, 1361.34674299,  139.64444759,  457.40595839,\n",
       "       1028.18007209,  871.92859669, 1834.54147951,  683.95435472,\n",
       "        721.14293101,  723.12799465,  604.79905045,   58.48722039,\n",
       "        207.92759246,  435.2695793 ,  725.60063187,  491.20294565,\n",
       "        601.66838053, 1428.09134445,  250.14016303,   23.38204162,\n",
       "        625.37413901, 1401.67411675,  172.69282186,   35.53668133,\n",
       "        296.41157809, 1628.9482729 , 4073.48406714,  808.55268011,\n",
       "       3126.31669047,  884.85441591, 1236.78127118,  900.31261158,\n",
       "         94.87373909, 1212.38304093, 2865.1557353 ,  397.24407093,\n",
       "        898.58740803,  129.42893675, 6184.06147092,   37.28497087,\n",
       "        428.8152214 ,  729.35585504, 2351.17911491,  125.70694967,\n",
       "        151.8108125 ,  708.25774015,  547.21690838,  139.88534362])"
      ]
     },
     "execution_count": 25,
     "metadata": {},
     "output_type": "execute_result"
    }
   ],
   "source": [
    "from scipy.stats import expon, gamma\n",
    "import numpy as np\n",
    "\n",
    "scale_factor = 1.0/100\n",
    "rescale = 1000000*scale_factor\n",
    "funds_requested = gamma.rvs(3, loc=0.0, scale=1)\n",
    "\n",
    "new_participant_holdings = expon.rvs(loc=0.0, scale=1000)\n",
    "new_participant_holdings\n",
    "\n",
    "expon.rvs(size=100, scale=1000)"
   ]
  },
  {
   "cell_type": "code",
   "execution_count": 22,
   "metadata": {},
   "outputs": [
    {
     "data": {
      "text/plain": [
       "3.7351066869288445"
      ]
     },
     "execution_count": 22,
     "metadata": {},
     "output_type": "execute_result"
    }
   ],
   "source": [
    "funds_requested"
   ]
  },
  {
   "cell_type": "code",
   "execution_count": 41,
   "metadata": {},
   "outputs": [
    {
     "data": {
      "text/plain": [
       "True"
      ]
     },
     "execution_count": 41,
     "metadata": {},
     "output_type": "execute_result"
    }
   ],
   "source": [
    "arrival_rate = 10 #/(1+s['sentiment'])\n",
    "rv = np.random.rand()\n",
    "new_participant = bool(rv<1/arrival_rate)\n",
    "new_participant"
   ]
  },
  {
   "cell_type": "code",
   "execution_count": 28,
   "metadata": {},
   "outputs": [],
   "source": [
    "zipOf = zip(range(10), expon.rvs(size=10, loc=0.0, scale=1000))"
   ]
  },
  {
   "cell_type": "code",
   "execution_count": null,
   "metadata": {},
   "outputs": [],
   "source": [
    "dict(zipOf)"
   ]
  }
 ],
 "metadata": {
  "kernelspec": {
   "display_name": "Python3 - python",
   "language": "python",
   "name": "ipython_python"
  },
  "language_info": {
   "codemirror_mode": {
    "name": "ipython",
    "version": 3
   },
   "file_extension": ".py",
   "mimetype": "text/x-python",
   "name": "python",
   "nbconvert_exporter": "python",
   "pygments_lexer": "ipython3",
   "version": "3.7.2"
  }
 },
 "nbformat": 4,
 "nbformat_minor": 2
}
