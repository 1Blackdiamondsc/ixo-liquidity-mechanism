{
 "cells": [
  {
   "cell_type": "code",
   "execution_count": 25,
   "metadata": {},
   "outputs": [
    {
     "data": {
      "text/plain": [
       "array([ 323.15327718,  857.32922174, 1187.09084089, 1259.98924664,\n",
       "        792.94512987, 1717.97629616,  852.87147146,  618.0209758 ,\n",
       "       1094.23530425,   47.29830331,   56.04604394, 1932.7970069 ,\n",
       "        655.02168086,  105.71075554, 1457.94340599, 2433.02715581,\n",
       "       1058.55648891, 2129.39320321,  275.9554012 ,  536.860577  ,\n",
       "        505.57403567,  332.93811551,  778.67304813, 1598.92289001,\n",
       "         88.90460763, 1410.08264489,  422.20460158,   57.68480087,\n",
       "       1697.77969465,  680.68216184,  793.3457239 ,  100.33678834,\n",
       "        620.37066683,  951.99658705, 2879.12239235, 2287.70662576,\n",
       "        225.09077525,  743.92980412, 1200.32188854,  373.30502242,\n",
       "       2085.55969139,  961.59875007,  780.33460604, 2504.32445812,\n",
       "       2572.36757458, 2712.21511222,  643.52764595,  301.67076428,\n",
       "        148.86970764, 1529.19105158,  594.4556191 , 2081.92774485,\n",
       "        481.70498798, 1361.34674299,  139.64444759,  457.40595839,\n",
       "       1028.18007209,  871.92859669, 1834.54147951,  683.95435472,\n",
       "        721.14293101,  723.12799465,  604.79905045,   58.48722039,\n",
       "        207.92759246,  435.2695793 ,  725.60063187,  491.20294565,\n",
       "        601.66838053, 1428.09134445,  250.14016303,   23.38204162,\n",
       "        625.37413901, 1401.67411675,  172.69282186,   35.53668133,\n",
       "        296.41157809, 1628.9482729 , 4073.48406714,  808.55268011,\n",
       "       3126.31669047,  884.85441591, 1236.78127118,  900.31261158,\n",
       "         94.87373909, 1212.38304093, 2865.1557353 ,  397.24407093,\n",
       "        898.58740803,  129.42893675, 6184.06147092,   37.28497087,\n",
       "        428.8152214 ,  729.35585504, 2351.17911491,  125.70694967,\n",
       "        151.8108125 ,  708.25774015,  547.21690838,  139.88534362])"
      ]
     },
     "execution_count": 25,
     "metadata": {},
     "output_type": "execute_result"
    }
   ],
   "source": [
    "from scipy.stats import expon, gamma\n",
    "import numpy as np\n",
    "\n",
    "scale_factor = 1.0/100\n",
    "rescale = 1000000*scale_factor\n",
    "funds_requested = gamma.rvs(3, loc=0.0, scale=1)\n",
    "\n",
    "new_participant_holdings = expon.rvs(loc=0.0, scale=1000)\n",
    "new_participant_holdings\n",
    "\n",
    "expon.rvs(size=100, scale=1000)"
   ]
  },
  {
   "cell_type": "code",
   "execution_count": 22,
   "metadata": {},
   "outputs": [
    {
     "data": {
      "text/plain": [
       "3.7351066869288445"
      ]
     },
     "execution_count": 22,
     "metadata": {},
     "output_type": "execute_result"
    }
   ],
   "source": [
    "funds_requested"
   ]
  },
  {
   "cell_type": "code",
   "execution_count": 41,
   "metadata": {},
   "outputs": [
    {
     "data": {
      "text/plain": [
       "True"
      ]
     },
     "execution_count": 41,
     "metadata": {},
     "output_type": "execute_result"
    }
   ],
   "source": [
    "arrival_rate = 10 #/(1+s['sentiment'])\n",
    "rv = np.random.rand()\n",
    "new_participant = bool(rv<1/arrival_rate)\n",
    "new_participant"
   ]
  },
  {
   "cell_type": "code",
   "execution_count": 28,
   "metadata": {},
   "outputs": [],
   "source": [
    "zipOf = zip(range(10), expon.rvs(size=10, loc=0.0, scale=1000))"
   ]
  },
  {
   "cell_type": "code",
   "execution_count": 29,
   "metadata": {},
   "outputs": [
    {
     "data": {
      "text/plain": [
       "{0: 1545.447377550309,\n",
       " 1: 1108.7411621419064,\n",
       " 2: 947.0720332390383,\n",
       " 3: 1885.7920716857693,\n",
       " 4: 60.44773137104361,\n",
       " 5: 328.3851184100976,\n",
       " 6: 1039.3094364236729,\n",
       " 7: 444.12040546112036,\n",
       " 8: 564.9710870739682,\n",
       " 9: 769.6093480323277}"
      ]
     },
     "execution_count": 29,
     "metadata": {},
     "output_type": "execute_result"
    }
   ],
   "source": [
    "dict(zipOf)"
   ]
  },
  {
   "cell_type": "code",
   "execution_count": 39,
   "metadata": {},
   "outputs": [],
   "source": [
    "import networkx as nx\n",
    "\n",
    "network = nx.Graph()\n",
    "\n",
    "pair=('DAI', 'IXO')\n",
    "network.add_node('a', _type='per')\n",
    "network.add_node('b')\n",
    "network.add_node('c')\n",
    "network.add_edge('a', 'b', _type='test', weight=1000)\n",
    "network.add_edge('a', 'c', _type='test', weight=1000)\n",
    "\n",
    "for e in network.edges('a'):\n",
    "    network.edges[e]['balance'] = 100"
   ]
  },
  {
   "cell_type": "code",
   "execution_count": 40,
   "metadata": {},
   "outputs": [
    {
     "data": {
      "text/plain": [
       "(1.0, 0.1)"
      ]
     },
     "execution_count": 40,
     "metadata": {},
     "output_type": "execute_result"
    }
   ],
   "source": [
    "def withdraw(deltaS, R,S, V0, kappa):\n",
    "    deltaR = R-((S-deltaS)**kappa)/V0\n",
    "    realized_price = deltaR/deltaS\n",
    "    return deltaR, realized_price\n",
    "\n",
    "withdraw(10, 100, 1000, 10, 1)"
   ]
  },
  {
   "cell_type": "code",
   "execution_count": 41,
   "metadata": {},
   "outputs": [],
   "source": [
    "participants = [('a', 'b')]"
   ]
  },
  {
   "cell_type": "code",
   "execution_count": 42,
   "metadata": {},
   "outputs": [],
   "source": [
    "participants_with_collateral = filter(lambda e: network.edges[e].get('balance', 0)>0 and e in participants, network.edges('a'))"
   ]
  },
  {
   "cell_type": "code",
   "execution_count": 43,
   "metadata": {},
   "outputs": [
    {
     "data": {
      "text/plain": [
       "[('a', 'b')]"
      ]
     },
     "execution_count": 43,
     "metadata": {},
     "output_type": "execute_result"
    }
   ],
   "source": [
    "list(participants_with_collateral)"
   ]
  },
  {
   "cell_type": "code",
   "execution_count": 44,
   "metadata": {},
   "outputs": [
    {
     "data": {
      "text/plain": [
       "['a', 'b']"
      ]
     },
     "execution_count": 44,
     "metadata": {},
     "output_type": "execute_result"
    }
   ],
   "source": [
    "t = ('b', 'a')\n",
    "sorted(t)"
   ]
  },
  {
   "cell_type": "code",
   "execution_count": 45,
   "metadata": {},
   "outputs": [
    {
     "data": {
      "text/plain": [
       "0.1"
      ]
     },
     "execution_count": 45,
     "metadata": {},
     "output_type": "execute_result"
    }
   ],
   "source": [
    "\n",
    "\n",
    "def spot_price(R, V0, kappa):\n",
    "    return kappa*R**((kappa-1)/kappa)/V0**(1/kappa)\n",
    "\n",
    "spot_price(200003844.70648092, 10.0, 1)"
   ]
  },
  {
   "cell_type": "code",
   "execution_count": 46,
   "metadata": {},
   "outputs": [
    {
     "data": {
      "text/plain": [
       "NodeDataView({'a': {'_type': 'per'}, 'b': {}, 'c': {}})"
      ]
     },
     "execution_count": 46,
     "metadata": {},
     "output_type": "execute_result"
    }
   ],
   "source": [
    "network.nodes(data=True)"
   ]
  },
  {
   "cell_type": "code",
   "execution_count": 49,
   "metadata": {},
   "outputs": [
    {
     "data": {
      "text/plain": [
       "1"
      ]
     },
     "execution_count": 49,
     "metadata": {},
     "output_type": "execute_result"
    }
   ],
   "source": [
    "def get_node_ids_of_type(network, _type):\n",
    "    return [x for x,y in network.nodes(data=True) if y.get('_type', None)==_type]\n",
    "len(get_node_ids_of_type(network, 'per'))\n",
    "\n"
   ]
  },
  {
   "cell_type": "code",
   "execution_count": 52,
   "metadata": {},
   "outputs": [
    {
     "name": "stdout",
     "output_type": "stream",
     "text": [
      "1\n"
     ]
    }
   ],
   "source": [
    "print(1) then print(2)"
   ]
  },
  {
   "cell_type": "code",
   "execution_count": null,
   "metadata": {},
   "outputs": [],
   "source": []
  }
 ],
 "metadata": {
  "kernelspec": {
   "display_name": "Python3 - python",
   "language": "python",
   "name": "ipython_python"
  },
  "language_info": {
   "codemirror_mode": {
    "name": "ipython",
    "version": 3
   },
   "file_extension": ".py",
   "mimetype": "text/x-python",
   "name": "python",
   "nbconvert_exporter": "python",
   "pygments_lexer": "ipython3",
   "version": "3.7.2"
  }
 },
 "nbformat": 4,
 "nbformat_minor": 2
}
